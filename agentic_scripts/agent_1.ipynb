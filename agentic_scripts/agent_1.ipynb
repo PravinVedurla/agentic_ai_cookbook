{
 "cells": [
  {
   "cell_type": "code",
   "execution_count": 2,
   "id": "7a5e0a72",
   "metadata": {},
   "outputs": [],
   "source": [
    "from langgraph.graph import StateGraph ## Maintain flow of tasks in application\n",
    "from typing import TypedDict, Dict"
   ]
  },
  {
   "cell_type": "code",
   "execution_count": 3,
   "id": "539fd83e",
   "metadata": {},
   "outputs": [],
   "source": [
    "class Agent1State(TypedDict):\n",
    "    message: str\n",
    "\n",
    "def greeting_node(state: Agent1State) -> Agent1State:\n",
    "    \"\"\"Simple node to add greeting message to the state.\"\"\"\n",
    "\n",
    "    state['message'] = f\"Hello, {state['message']}. How can I assist you today?\"\n",
    "    return state"
   ]
  },
  {
   "cell_type": "code",
   "execution_count": 4,
   "id": "a7549b74",
   "metadata": {},
   "outputs": [],
   "source": [
    "graph = StateGraph(Agent1State)\n",
    "\n",
    "graph.add_node(\"greeting\", greeting_node)\n",
    "graph.set_entry_point(\"greeting\")\n",
    "graph.set_finish_point(\"greeting\")\n",
    "\n",
    "app = graph.compile()"
   ]
  },
  {
   "cell_type": "code",
   "execution_count": 5,
   "id": "91441912",
   "metadata": {},
   "outputs": [
    {
     "data": {
      "text/plain": [
       "'Hello, Yay. How can I assist you today?'"
      ]
     },
     "execution_count": 5,
     "metadata": {},
     "output_type": "execute_result"
    }
   ],
   "source": [
    "res = app.invoke({'message': 'Yay'})\n",
    "res['message']  # type: ignore"
   ]
  },
  {
   "cell_type": "code",
   "execution_count": null,
   "id": "672bed19",
   "metadata": {},
   "outputs": [],
   "source": []
  }
 ],
 "metadata": {
  "kernelspec": {
   "display_name": "Python 3",
   "language": "python",
   "name": "python3"
  },
  "language_info": {
   "codemirror_mode": {
    "name": "ipython",
    "version": 3
   },
   "file_extension": ".py",
   "mimetype": "text/x-python",
   "name": "python",
   "nbconvert_exporter": "python",
   "pygments_lexer": "ipython3",
   "version": "3.9.6"
  }
 },
 "nbformat": 4,
 "nbformat_minor": 5
}
