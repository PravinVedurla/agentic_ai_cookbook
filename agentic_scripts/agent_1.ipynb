{
 "cells": [
  {
   "cell_type": "code",
   "execution_count": 2,
   "id": "7a5e0a72",
   "metadata": {},
   "outputs": [
    {
     "name": "stderr",
     "output_type": "stream",
     "text": [
      "/Users/ravin/Library/Python/3.9/lib/python/site-packages/urllib3/__init__.py:34: NotOpenSSLWarning: urllib3 v2.0 only supports OpenSSL 1.1.1+, currently the 'ssl' module is compiled with 'LibreSSL 2.8.3'. See: https://github.com/urllib3/urllib3/issues/3020\n",
      "  warnings.warn(\n"
     ]
    }
   ],
   "source": [
    "from langgraph.graph import StateGraph ## Maintain flow of tasks in application\n",
    "from typing import TypedDict, Dict"
   ]
  },
  {
   "cell_type": "code",
   "execution_count": 3,
   "id": "539fd83e",
   "metadata": {},
   "outputs": [],
   "source": [
    "import random\n",
    "\n",
    "compliment_list = [\"You are doing great!\",\n",
    "                   \"Keep up the good work!\",\n",
    "                   \"Your efforts are appreciated!\",\n",
    "                   \"You are making a difference!\"]\n",
    "\n",
    "def random_compliment() -> str:\n",
    "    return random.choice(compliment_list)\n",
    "\n",
    "class Agent1State(TypedDict):\n",
    "    message: str\n",
    "\n",
    "def greeting_node(state: Agent1State) -> Agent1State:\n",
    "    \"\"\"Simple node to add greeting message to the state.\"\"\"\n",
    "\n",
    "    state['message'] = f\"Hello, {state['message']}. {random_compliment()}\"\n",
    "    return state"
   ]
  },
  {
   "cell_type": "code",
   "execution_count": 4,
   "id": "a7549b74",
   "metadata": {},
   "outputs": [],
   "source": [
    "graph = StateGraph(Agent1State)\n",
    "\n",
    "graph.add_node(\"greeting\", greeting_node)\n",
    "graph.set_entry_point(\"greeting\")\n",
    "graph.set_finish_point(\"greeting\")\n",
    "\n",
    "app = graph.compile()"
   ]
  },
  {
   "cell_type": "code",
   "execution_count": 10,
   "id": "91441912",
   "metadata": {},
   "outputs": [
    {
     "data": {
      "text/plain": [
       "'Hello, Yay. Your efforts are appreciated!'"
      ]
     },
     "execution_count": 10,
     "metadata": {},
     "output_type": "execute_result"
    }
   ],
   "source": [
    "res = app.invoke({'message': 'Yay'})\n",
    "res['message']  # type: ignore"
   ]
  },
  {
   "cell_type": "code",
   "execution_count": null,
   "id": "ddd3a3ad",
   "metadata": {},
   "outputs": [],
   "source": []
  },
  {
   "cell_type": "code",
   "execution_count": null,
   "id": "ddb0bd50",
   "metadata": {},
   "outputs": [],
   "source": []
  },
  {
   "cell_type": "code",
   "execution_count": null,
   "id": "8465e0c2",
   "metadata": {},
   "outputs": [],
   "source": []
  },
  {
   "cell_type": "code",
   "execution_count": null,
   "id": "d4712ee3",
   "metadata": {},
   "outputs": [],
   "source": []
  },
  {
   "cell_type": "code",
   "execution_count": null,
   "id": "83081e03",
   "metadata": {},
   "outputs": [],
   "source": []
  },
  {
   "cell_type": "code",
   "execution_count": null,
   "id": "672bed19",
   "metadata": {},
   "outputs": [],
   "source": []
  }
 ],
 "metadata": {
  "kernelspec": {
   "display_name": "Python 3",
   "language": "python",
   "name": "python3"
  },
  "language_info": {
   "codemirror_mode": {
    "name": "ipython",
    "version": 3
   },
   "file_extension": ".py",
   "mimetype": "text/x-python",
   "name": "python",
   "nbconvert_exporter": "python",
   "pygments_lexer": "ipython3",
   "version": "3.9.6"
  }
 },
 "nbformat": 4,
 "nbformat_minor": 5
}
