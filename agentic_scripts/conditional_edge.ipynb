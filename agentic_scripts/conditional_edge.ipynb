{
 "cells": [
  {
   "cell_type": "code",
   "execution_count": 3,
   "id": "9cf5b015",
   "metadata": {},
   "outputs": [],
   "source": [
    "from langgraph.graph import StateGraph, START, END ## Maintain flow of tasks in application\n",
    "from typing import TypedDict, Dict"
   ]
  },
  {
   "cell_type": "code",
   "execution_count": 4,
   "id": "cddd0df9",
   "metadata": {},
   "outputs": [],
   "source": [
    "class AgentState(TypedDict):\n",
    "    number1: int\n",
    "    number2: int\n",
    "    number3: int\n",
    "    number4: int\n",
    "    operation1: str\n",
    "    operation2: str\n",
    "    result1: int\n",
    "    result2: int\n",
    "\n",
    "def adder_node(state: AgentState) -> AgentState:\n",
    "    \"\"\"Node to add two numbers.\"\"\"\n",
    "    state['result1'] = state['number1'] + state['number2']\n",
    "    return state\n",
    "\n",
    "def subtractor_node(state: AgentState) -> AgentState:\n",
    "    \"\"\"Node to subtract two numbers.\"\"\"\n",
    "    state['result1'] = state['number1'] - state['number2']\n",
    "    return state\n",
    "\n",
    "def adder_node1(state: AgentState) -> AgentState:\n",
    "    \"\"\"Node to add two numbers.\"\"\"\n",
    "    state['result2'] = state['number3'] + state['number4']\n",
    "    return state\n",
    "\n",
    "def subtractor_node1(state: AgentState) -> AgentState:\n",
    "    \"\"\"Node to subtract two numbers.\"\"\"\n",
    "    state['result2'] = state['number3'] - state['number4']\n",
    "    return state\n",
    "\n",
    "def decide_next_node1(state: AgentState) -> AgentState:\n",
    "    \"\"\"Decide the next node based on the operation.\"\"\"\n",
    "    if state['operation1'] == '+':\n",
    "        return 'adder_node'\n",
    "    elif state['operation1'] == '-':\n",
    "        return 'subtractor_node'\n",
    "    else:\n",
    "        raise ValueError(\"Invalid operation\")\n",
    "    \n",
    "def decide_next_node2(state: AgentState) -> AgentState:\n",
    "    \"\"\"Decide the next node based on the operation.\"\"\"\n",
    "    if state['operation2'] == '+':\n",
    "        return 'adder_node1'\n",
    "    elif state['operation2'] == '-':\n",
    "        return 'subtractor_node1'\n",
    "    else:\n",
    "        raise ValueError(\"Invalid operation\")"
   ]
  },
  {
   "cell_type": "code",
   "execution_count": 6,
   "id": "ef13a71f",
   "metadata": {},
   "outputs": [],
   "source": [
    "graph = StateGraph(AgentState)\n",
    "\n",
    "graph.add_node('adder_node', adder_node)\n",
    "graph.add_node('subtractor_node', subtractor_node)\n",
    "graph.add_node('adder_node1', adder_node1)\n",
    "graph.add_node('subtractor_node1', subtractor_node1)\n",
    "\n",
    "graph.add_node('router1', lambda state: state)\n",
    "graph.add_node('router2', lambda state: state)\n",
    "\n",
    "graph.add_edge(START, 'router1')\n",
    "\n",
    "graph.add_conditional_edges(\n",
    "    'router1', \n",
    "    decide_next_node1, \n",
    "    {\n",
    "        'adder_node': 'adder_node',\n",
    "        'subtractor_node': 'subtractor_node'\n",
    "    }\n",
    ")\n",
    "\n",
    "graph.add_edge('adder_node', 'router2')\n",
    "graph.add_edge('subtractor_node', 'router2')\n",
    "\n",
    "graph.add_conditional_edges(\n",
    "    'router2', \n",
    "    decide_next_node2, \n",
    "    {\n",
    "        'adder_node1': 'adder_node1',\n",
    "        'subtractor_node1': 'subtractor_node1'\n",
    "    })\n",
    "\n",
    "graph.add_edge('adder_node1', END)\n",
    "graph.add_edge('subtractor_node1', END)\n",
    "\n",
    "app = graph.compile()"
   ]
  },
  {
   "cell_type": "code",
   "execution_count": 12,
   "id": "6da17f34",
   "metadata": {},
   "outputs": [
    {
     "data": {
      "image/png": "[encoded data removed]",
      "text/plain": [
       "<IPython.core.display.Image object>"
      ]
     },
     "metadata": {},
     "output_type": "display_data"
    }
   ],
   "source": [
    "from IPython.display import display, Image\n",
    "display(Image(app.get_graph().draw_mermaid_png()))"
   ]
  },
  {
   "cell_type": "code",
   "execution_count": 14,
   "id": "1a72eaed",
   "metadata": {},
   "outputs": [
    {
     "name": "stdout",
     "output_type": "stream",
     "text": [
      "{'number1': 10, 'number2': 5, 'number3': 20, 'number4': 15, 'operation1': '+', 'operation2': '-', 'result1': 15, 'result2': 5}\n"
     ]
    }
   ],
   "source": [
    "test_state: AgentState = {\n",
    "    'number1': 10,\n",
    "    'number2': 5,\n",
    "    'number3': 20,\n",
    "    'number4': 15,\n",
    "    'operation1': '+',\n",
    "    'operation2': '-',\n",
    "    'result1': 0,\n",
    "    'result2': 0\n",
    "}\n",
    "\n",
    "res = app.invoke(test_state)\n",
    "print(res)"
   ]
  },
  {
   "cell_type": "code",
   "execution_count": null,
   "id": "3b704847",
   "metadata": {},
   "outputs": [],
   "source": []
  },
  {
   "cell_type": "code",
   "execution_count": null,
   "id": "71a9a2a0",
   "metadata": {},
   "outputs": [],
   "source": []
  }
 ],
 "metadata": {
  "kernelspec": {
   "display_name": "Python 3",
   "language": "python",
   "name": "python3"
  },
  "language_info": {
   "codemirror_mode": {
    "name": "ipython",
    "version": 3
   },
   "file_extension": ".py",
   "mimetype": "text/x-python",
   "name": "python",
   "nbconvert_exporter": "python",
   "pygments_lexer": "ipython3",
   "version": "3.9.6"
  }
 },
 "nbformat": 4,
 "nbformat_minor": 5
}
